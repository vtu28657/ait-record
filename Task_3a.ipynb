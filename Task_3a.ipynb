{
  "cells": [
    {
      "cell_type": "markdown",
      "metadata": {
        "id": "view-in-github",
        "colab_type": "text"
      },
      "source": [
        "<a href=\"https://colab.research.google.com/github/vtu28657/ait-record/blob/main/Task_3a.ipynb\" target=\"_parent\"><img src=\"https://colab.research.google.com/assets/colab-badge.svg\" alt=\"Open In Colab\"/></a>"
      ]
    },
    {
      "cell_type": "code",
      "source": [
        "def aStarAlgo(start_node, stop_node):\n",
        "    open_set = set([start_node])\n",
        "    closed_set = set()\n",
        "    g = {}  # Store distance from starting node\n",
        "    parents = {}  # Adjacency map of all nodes\n",
        "\n",
        "    g[start_node] = 0\n",
        "    parents[start_node] = start_node\n",
        "\n",
        "    while len(open_set) > 0:\n",
        "        n = None\n",
        "\n",
        "        # Find node with lowest f() = g(n) + h(n)\n",
        "        for v in open_set:\n",
        "            if n is None or g[v] + heuristic(v) < g[n] + heuristic(n):\n",
        "                n = v\n",
        "\n",
        "        if n is None:\n",
        "            print('Path does not exist!')\n",
        "            return None\n",
        "\n",
        "        # If the current node is the goal node\n",
        "        if n == stop_node:\n",
        "            path = []\n",
        "            while parents[n] != n:\n",
        "                path.append(n)\n",
        "                n = parents[n]\n",
        "            path.append(start_node)\n",
        "            path.reverse()\n",
        "            print('Path found:', path)\n",
        "            return path\n",
        "\n",
        "        # For all neighbors of n\n",
        "        for (m, weight) in get_neighbors(n):\n",
        "            # If m not in open_set and closed_set\n",
        "            if m not in open_set and m not in closed_set:\n",
        "                open_set.add(m)\n",
        "                parents[m] = n\n",
        "                g[m] = g[n] + weight\n",
        "            else:\n",
        "                # Check if a better path exists\n",
        "                if g[m] > g[n] + weight:\n",
        "                    g[m] = g[n] + weight\n",
        "                    parents[m] = n\n",
        "                    if m in closed_set:\n",
        "                        closed_set.remove(m)\n",
        "                        open_set.add(m)\n",
        "\n",
        "        # Move n from open_set to closed_set\n",
        "        open_set.remove(n)\n",
        "        closed_set.add(n)\n",
        "\n",
        "    print('Path does not exist!')\n",
        "    return None\n",
        "\n",
        "\n",
        "# Function to return neighbors and distances\n",
        "def get_neighbors(v):\n",
        "    if v in Graph_nodes:\n",
        "        return Graph_nodes[v]\n",
        "    else:\n",
        "        return []\n",
        "\n",
        "\n",
        "# Heuristic values for nodes\n",
        "def heuristic(n):\n",
        "    h_dist = {\n",
        "        'A': 11,\n",
        "        'B': 6,\n",
        "        'C': 5,\n",
        "        'D': 7,\n",
        "        'E': 3,\n",
        "        'F': 6,\n",
        "        'G': 5,\n",
        "        'H': 3,\n",
        "        'I': 1,\n",
        "        'J': 0\n",
        "    }\n",
        "    return h_dist[n]\n",
        "\n",
        "\n",
        "# Define the graph\n",
        "Graph_nodes = {\n",
        "    'A': [('B', 6), ('F', 3)],\n",
        "    'B': [('A', 6), ('C', 3), ('D', 2)],\n",
        "    'C': [('B', 3), ('D', 1), ('E', 5)],\n",
        "    'D': [('B', 2), ('C', 1), ('E', 8)],\n",
        "    'E': [('C', 5), ('D', 8), ('I', 5), ('J', 5)],\n",
        "    'F': [('A', 3), ('G', 1), ('H', 7)],\n",
        "    'G': [('F', 1), ('I', 3)],\n",
        "    'H': [('F', 7), ('I', 2)],\n",
        "    'I': [('E', 5), ('G', 3), ('H', 2), ('J', 3)],\n",
        "    'J': []\n",
        "}\n",
        "\n",
        "\n",
        "print(\"Following is the A* Algorithm:\")\n",
        "aStarAlgo('A', 'J')\n"
      ],
      "metadata": {
        "id": "8fCsy3RI1oTo",
        "outputId": "89ae0def-5f4c-4f94-932e-d2dbb82b9141",
        "colab": {
          "base_uri": "https://localhost:8080/"
        }
      },
      "execution_count": null,
      "outputs": [
        {
          "output_type": "stream",
          "name": "stdout",
          "text": [
            "Following is the A* Algorithm:\n",
            "Path found: ['A', 'F', 'G', 'I', 'J']\n"
          ]
        },
        {
          "output_type": "execute_result",
          "data": {
            "text/plain": [
              "['A', 'F', 'G', 'I', 'J']"
            ]
          },
          "metadata": {},
          "execution_count": 2
        }
      ]
    }
  ],
  "metadata": {
    "colab": {
      "toc_visible": true,
      "provenance": [],
      "include_colab_link": true
    },
    "kernelspec": {
      "display_name": "Python 3",
      "name": "python3"
    }
  },
  "nbformat": 4,
  "nbformat_minor": 0
}