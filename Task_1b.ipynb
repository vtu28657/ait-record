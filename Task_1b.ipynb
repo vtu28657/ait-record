{
  "cells": [
    {
      "cell_type": "markdown",
      "metadata": {
        "id": "view-in-github",
        "colab_type": "text"
      },
      "source": [
        "<a href=\"https://colab.research.google.com/github/vtu28657/ait-record/blob/main/Task_1b.ipynb\" target=\"_parent\"><img src=\"https://colab.research.google.com/assets/colab-badge.svg\" alt=\"Open In Colab\"/></a>"
      ]
    },
    {
      "cell_type": "code",
      "source": [
        "# Graph represented as an adjacency list\n",
        "graph = {\n",
        "    '5': ['3', '7'],\n",
        "    '3': ['2', '4'],\n",
        "    '7': ['8'],\n",
        "    '2': [],\n",
        "    '4': ['8'],\n",
        "    '8': []\n",
        "}\n",
        "\n",
        "# Breadth-First Search function\n",
        "def bfs(graph, start_node):\n",
        "    visited = []         # List to keep track of visited nodes\n",
        "    queue = []           # Initialize a queue\n",
        "\n",
        "    visited.append(start_node)\n",
        "    queue.append(start_node)\n",
        "\n",
        "    while queue:\n",
        "        current_node = queue.pop(0)\n",
        "        print(current_node, end=\" \")\n",
        "\n",
        "        for neighbor in graph[current_node]:\n",
        "            if neighbor not in visited:\n",
        "                visited.append(neighbor)\n",
        "                queue.append(neighbor)\n",
        "\n",
        "# Driver code\n",
        "print(\"Following is the Breadth-First Search:\")\n",
        "bfs(graph, '5')\n"
      ],
      "metadata": {
        "colab": {
          "base_uri": "https://localhost:8080/"
        },
        "id": "wrLU3Upvzfg9",
        "outputId": "fc833aa4-b15e-4986-c289-58f6a252edcb"
      },
      "execution_count": null,
      "outputs": [
        {
          "output_type": "stream",
          "name": "stdout",
          "text": [
            "Following is the Breadth-First Search:\n",
            "5 3 7 2 4 8 "
          ]
        }
      ]
    }
  ],
  "metadata": {
    "colab": {
      "toc_visible": true,
      "provenance": [],
      "include_colab_link": true
    },
    "kernelspec": {
      "display_name": "Python 3",
      "name": "python3"
    }
  },
  "nbformat": 4,
  "nbformat_minor": 0
}