{
  "cells": [
    {
      "cell_type": "markdown",
      "metadata": {
        "id": "view-in-github",
        "colab_type": "text"
      },
      "source": [
        "<a href=\"https://colab.research.google.com/github/vtu28657/ait-record/blob/main/Task_2.ipynb\" target=\"_parent\"><img src=\"https://colab.research.google.com/assets/colab-badge.svg\" alt=\"Open In Colab\"/></a>"
      ]
    },
    {
      "cell_type": "code",
      "source": [
        "from sys import maxsize\n",
        "from itertools import permutations\n",
        "\n",
        "V = 4\n",
        "\n",
        "def travelling_salesman_problem(graph, s):\n",
        "    vertex = []\n",
        "    for i in range(V):\n",
        "        if i != s:\n",
        "            vertex.append(i)\n",
        "\n",
        "    min_path = maxsize\n",
        "    next_permutation = permutations(vertex)\n",
        "\n",
        "    for i in next_permutation:\n",
        "        current_pathweight = 0\n",
        "        k = s\n",
        "        for j in i:\n",
        "            current_pathweight += graph[k][j]\n",
        "            k = j\n",
        "        current_pathweight += graph[k][s]\n",
        "        min_path = min(min_path, current_pathweight)\n",
        "\n",
        "    return min_path\n",
        "\n",
        "\n",
        "if __name__ == \"__main__\":\n",
        "    graph = [\n",
        "        [0, 10, 15, 20],\n",
        "        [10, 0, 35, 25],\n",
        "        [15, 35, 0, 30],\n",
        "        [20, 25, 30, 0]\n",
        "    ]\n",
        "    s = 0\n",
        "    print(travelling_salesman_problem(graph, s))\n"
      ],
      "metadata": {
        "id": "GAIeiKgQ0dO6",
        "outputId": "f8aeb0cc-7a76-4c10-d03f-3473799cfaf0",
        "colab": {
          "base_uri": "https://localhost:8080/"
        }
      },
      "execution_count": null,
      "outputs": [
        {
          "output_type": "stream",
          "name": "stdout",
          "text": [
            "80\n"
          ]
        }
      ]
    }
  ],
  "metadata": {
    "colab": {
      "toc_visible": true,
      "provenance": [],
      "include_colab_link": true
    },
    "kernelspec": {
      "display_name": "Python 3",
      "name": "python3"
    }
  },
  "nbformat": 4,
  "nbformat_minor": 0
}