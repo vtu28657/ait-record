{
  "cells": [
    {
      "cell_type": "markdown",
      "metadata": {
        "id": "view-in-github",
        "colab_type": "text"
      },
      "source": [
        "<a href=\"https://colab.research.google.com/github/vtu28657/ait-record/blob/main/Task_10.ipynb\" target=\"_parent\"><img src=\"https://colab.research.google.com/assets/colab-badge.svg\" alt=\"Open In Colab\"/></a>"
      ]
    },
    {
      "cell_type": "code",
      "source": [
        "# Define a list of facts\n",
        "facts = [\n",
        "    \"john_is_cold.\",\n",
        "    \"raining.\",\n",
        "    \"john_Forgot_His_Raincoat.\",\n",
        "    \"fred_lost_his_car_keys.\",\n",
        "    \"peter_footballer.\"\n",
        "]\n",
        "\n",
        "# Function to check if a fact is true\n",
        "def verify_fact(fact):\n",
        "    # Remove the trailing period and convert to lowercase for consistency\n",
        "    fact = fact.rstrip(\".\").lower()\n",
        "\n",
        "    # Perform some logic to verify the fact\n",
        "    true_facts = {\n",
        "        \"john_forgot_his_raincoat\",\n",
        "        \"raining\",\n",
        "        \"foggy\"\n",
        "    }\n",
        "\n",
        "    false_facts = {\n",
        "        \"cloudy\"\n",
        "    }\n",
        "\n",
        "    if fact in true_facts:\n",
        "        return True\n",
        "    elif fact in false_facts:\n",
        "        return False\n",
        "    else:\n",
        "        return False\n",
        "\n",
        "# Verify each fact\n",
        "for fact in facts:\n",
        "    if verify_fact(fact):\n",
        "        print(f\"{fact} - Yes\")\n",
        "    else:\n",
        "        print(f\"{fact} - No\")\n"
      ],
      "metadata": {
        "id": "_r6ADXzy6a5y",
        "outputId": "e5c20c76-f951-4e64-dc0d-2ad3446eafe3",
        "colab": {
          "base_uri": "https://localhost:8080/"
        }
      },
      "execution_count": null,
      "outputs": [
        {
          "output_type": "stream",
          "name": "stdout",
          "text": [
            "john_is_cold. - No\n",
            "raining. - Yes\n",
            "john_Forgot_His_Raincoat. - Yes\n",
            "fred_lost_his_car_keys. - No\n",
            "peter_footballer. - No\n"
          ]
        }
      ]
    }
  ],
  "metadata": {
    "colab": {
      "toc_visible": true,
      "provenance": [],
      "include_colab_link": true
    },
    "kernelspec": {
      "display_name": "Python 3",
      "name": "python3"
    }
  },
  "nbformat": 4,
  "nbformat_minor": 0
}