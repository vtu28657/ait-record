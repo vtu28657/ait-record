{
  "cells": [
    {
      "cell_type": "markdown",
      "metadata": {
        "id": "view-in-github",
        "colab_type": "text"
      },
      "source": [
        "<a href=\"https://colab.research.google.com/github/vtu28657/ait-record/blob/main/Task_5.ipynb\" target=\"_parent\"><img src=\"https://colab.research.google.com/assets/colab-badge.svg\" alt=\"Open In Colab\"/></a>"
      ]
    },
    {
      "cell_type": "code",
      "source": [
        "import numpy as np\n",
        "from numpy import inf\n",
        "\n",
        "# Given distance matrix\n",
        "d = np.array([\n",
        "    [0, 10, 12, 11, 14],\n",
        "    [10, 0, 13, 15, 8],\n",
        "    [12, 13, 0, 9, 14],\n",
        "    [11, 15, 9, 0, 16],\n",
        "    [14, 8, 14, 16, 0]\n",
        "])\n",
        "\n",
        "# Parameters\n",
        "iteration = 100\n",
        "n_ants = 5\n",
        "n_citys = 5\n",
        "m = n_ants\n",
        "n = n_citys\n",
        "e = 0.5        # Evaporation rate\n",
        "alpha = 1      # Pheromone importance\n",
        "beta = 2       # Visibility importance\n",
        "\n",
        "# Visibility = 1 / distance\n",
        "visibility = 1 / d\n",
        "visibility[visibility == inf] = 0\n",
        "\n",
        "# Initialize pheromone trails\n",
        "pheromone = 0.1 * np.ones((n, n))\n",
        "\n",
        "# Route matrix for ants\n",
        "rute = np.ones((m, n + 1))\n",
        "\n",
        "for ite in range(iteration):\n",
        "    rute[:, 0] = 1  # start from city 1 for all ants\n",
        "\n",
        "    for i in range(m):\n",
        "        temp_visibility = np.array(visibility)\n",
        "\n",
        "        for j in range(n - 1):\n",
        "            cur_loc = int(rute[i, j] - 1)\n",
        "\n",
        "            # Set visibility of the current city to 0\n",
        "            temp_visibility[:, cur_loc] = 0\n",
        "\n",
        "            # Calculate probability components\n",
        "            p_feature = np.power(pheromone[cur_loc, :], alpha)\n",
        "            v_feature = np.power(temp_visibility[cur_loc, :], beta)\n",
        "            combine_feature = p_feature * v_feature\n",
        "\n",
        "            total = np.sum(combine_feature)\n",
        "            probs = combine_feature / total if total != 0 else np.zeros(n)\n",
        "\n",
        "            # Cumulative probability\n",
        "            cum_prob = np.cumsum(probs)\n",
        "            r = np.random.random_sample()\n",
        "            city = np.nonzero(cum_prob > r)[0][0] + 1\n",
        "\n",
        "            rute[i, j + 1] = city\n",
        "\n",
        "        # Find the last unvisited city\n",
        "        left = list(set(range(1, n + 1)) - set(rute[i, :-1]))\n",
        "        if left:\n",
        "            rute[i, -2] = left[0]\n",
        "        rute[i, -1] = 1  # Return to start city\n",
        "\n",
        "    # Calculate distance cost for all ants\n",
        "    rute_opt = np.array(rute)\n",
        "    dist_cost = np.zeros((m, 1))\n",
        "\n",
        "    for i in range(m):\n",
        "        s = 0\n",
        "        for j in range(n):\n",
        "            s += d[int(rute_opt[i, j]) - 1, int(rute_opt[i, j + 1]) - 1]\n",
        "        dist_cost[i] = s\n",
        "\n",
        "    # Find the best route\n",
        "    dist_min_loc = np.argmin(dist_cost)\n",
        "    dist_min_cost = dist_cost[dist_min_loc]\n",
        "    best_route = rute[dist_min_loc, :]\n",
        "\n",
        "    # Pheromone evaporation\n",
        "    pheromone = (1 - e) * pheromone\n",
        "\n",
        "    # Pheromone update based on distance\n",
        "    for i in range(m):\n",
        "        for j in range(n):\n",
        "            dt = 1 / dist_cost[i]\n",
        "            from_city = int(rute_opt[i, j]) - 1\n",
        "            to_city = int(rute_opt[i, j + 1]) - 1\n",
        "            pheromone[from_city, to_city] += dt\n",
        "\n",
        "print('Routes of all the ants at the end:')\n",
        "print(rute_opt)\n",
        "print()\n",
        "print('Best path:', best_route)\n",
        "print('Cost of the best path:', int(dist_min_cost[0]))\n"
      ],
      "metadata": {
        "id": "7JpUhOdb3vFo",
        "outputId": "c9fab945-79bc-4957-9450-3710fb539ebc",
        "colab": {
          "base_uri": "https://localhost:8080/"
        }
      },
      "execution_count": null,
      "outputs": [
        {
          "output_type": "stream",
          "name": "stdout",
          "text": [
            "Routes of all the ants at the end:\n",
            "[[1. 2. 5. 3. 4. 1.]\n",
            " [1. 2. 5. 3. 4. 1.]\n",
            " [1. 2. 5. 3. 4. 1.]\n",
            " [1. 2. 5. 3. 4. 1.]\n",
            " [1. 2. 5. 3. 4. 1.]]\n",
            "\n",
            "Best path: [1. 2. 5. 3. 4. 1.]\n",
            "Cost of the best path: 52\n"
          ]
        },
        {
          "output_type": "stream",
          "name": "stderr",
          "text": [
            "/tmp/ipython-input-4068183285.py:24: RuntimeWarning: divide by zero encountered in divide\n",
            "  visibility = 1 / d\n",
            "/tmp/ipython-input-4068183285.py:90: DeprecationWarning: Conversion of an array with ndim > 0 to a scalar is deprecated, and will error in future. Ensure you extract a single element from your array before performing this operation. (Deprecated NumPy 1.25.)\n",
            "  pheromone[from_city, to_city] += dt\n"
          ]
        }
      ]
    }
  ],
  "metadata": {
    "colab": {
      "toc_visible": true,
      "provenance": [],
      "include_colab_link": true
    },
    "kernelspec": {
      "display_name": "Python 3",
      "name": "python3"
    }
  },
  "nbformat": 4,
  "nbformat_minor": 0
}