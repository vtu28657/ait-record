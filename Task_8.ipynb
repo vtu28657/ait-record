{
  "cells": [
    {
      "cell_type": "markdown",
      "metadata": {
        "id": "view-in-github",
        "colab_type": "text"
      },
      "source": [
        "<a href=\"https://colab.research.google.com/github/vtu28657/ait-record/blob/main/Task_8.ipynb\" target=\"_parent\"><img src=\"https://colab.research.google.com/assets/colab-badge.svg\" alt=\"Open In Colab\"/></a>"
      ]
    },
    {
      "cell_type": "code",
      "source": [
        "N = 4\n",
        "\n",
        "def printSolution(board):\n",
        "    for i in range(N):\n",
        "        for j in range(N):\n",
        "            print(board[i][j], end=' ')\n",
        "        print()\n",
        "\n",
        "def isSafe(board, row, col):\n",
        "    # Check this row on left side\n",
        "    for i in range(col):\n",
        "        if board[row][i] == 1:\n",
        "            return False\n",
        "\n",
        "    # Check upper diagonal on left side\n",
        "    for i, j in zip(range(row, -1, -1), range(col, -1, -1)):\n",
        "        if board[i][j] == 1:\n",
        "            return False\n",
        "\n",
        "    # Check lower diagonal on left side\n",
        "    for i, j in zip(range(row, N, 1), range(col, -1, -1)):\n",
        "        if board[i][j] == 1:\n",
        "            return False\n",
        "\n",
        "    return True\n",
        "\n",
        "def solveNQUtil(board, col):\n",
        "    if col >= N:\n",
        "        return True\n",
        "\n",
        "    for i in range(N):\n",
        "        if isSafe(board, i, col):\n",
        "            board[i][col] = 1\n",
        "\n",
        "            if solveNQUtil(board, col + 1):\n",
        "                return True\n",
        "\n",
        "            board[i][col] = 0\n",
        "\n",
        "    return False\n",
        "\n",
        "def solveNQ():\n",
        "    board = [[0 for _ in range(N)] for _ in range(N)]\n",
        "\n",
        "    if not solveNQUtil(board, 0):\n",
        "        print(\"Solution does not exist\")\n",
        "        return False\n",
        "\n",
        "    printSolution(board)\n",
        "    return True\n",
        "\n",
        "solveNQ()\n"
      ],
      "metadata": {
        "id": "6bE2NrkW5MY3",
        "outputId": "10207d37-e889-49fe-bb3d-3450772799ca",
        "colab": {
          "base_uri": "https://localhost:8080/"
        }
      },
      "execution_count": 1,
      "outputs": [
        {
          "output_type": "stream",
          "name": "stdout",
          "text": [
            "0 0 1 0 \n",
            "1 0 0 0 \n",
            "0 0 0 1 \n",
            "0 1 0 0 \n"
          ]
        },
        {
          "output_type": "execute_result",
          "data": {
            "text/plain": [
              "True"
            ]
          },
          "metadata": {},
          "execution_count": 1
        }
      ]
    }
  ],
  "metadata": {
    "colab": {
      "toc_visible": true,
      "provenance": [],
      "include_colab_link": true
    },
    "kernelspec": {
      "display_name": "Python 3",
      "name": "python3"
    }
  },
  "nbformat": 4,
  "nbformat_minor": 0
}